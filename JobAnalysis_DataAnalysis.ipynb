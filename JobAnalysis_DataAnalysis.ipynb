{
 "cells": [
  {
   "cell_type": "code",
   "execution_count": 311,
   "metadata": {},
   "outputs": [],
   "source": [
    "import pandas as pd "
   ]
  },
  {
   "cell_type": "code",
   "execution_count": 312,
   "metadata": {},
   "outputs": [
    {
     "data": {
      "text/html": [
       "<div>\n",
       "<style scoped>\n",
       "    .dataframe tbody tr th:only-of-type {\n",
       "        vertical-align: middle;\n",
       "    }\n",
       "\n",
       "    .dataframe tbody tr th {\n",
       "        vertical-align: top;\n",
       "    }\n",
       "\n",
       "    .dataframe thead th {\n",
       "        text-align: right;\n",
       "    }\n",
       "</style>\n",
       "<table border=\"1\" class=\"dataframe\">\n",
       "  <thead>\n",
       "    <tr style=\"text-align: right;\">\n",
       "      <th></th>\n",
       "      <th>Job Title</th>\n",
       "      <th>Salary Estimate</th>\n",
       "      <th>Job Description</th>\n",
       "      <th>Rating</th>\n",
       "      <th>Company Name</th>\n",
       "      <th>Location</th>\n",
       "      <th>Headquarters</th>\n",
       "      <th>Size</th>\n",
       "      <th>Founded</th>\n",
       "      <th>Type of ownership</th>\n",
       "      <th>Industry</th>\n",
       "      <th>Sector</th>\n",
       "      <th>Revenue</th>\n",
       "      <th>Competitors</th>\n",
       "      <th>Easy Apply</th>\n",
       "    </tr>\n",
       "  </thead>\n",
       "  <tbody>\n",
       "    <tr>\n",
       "      <th>0</th>\n",
       "      <td>Data Analyst, Center on Immigration and Justic...</td>\n",
       "      <td>$37K-$66K (Glassdoor est.)</td>\n",
       "      <td>Are you eager to roll up your sleeves and harn...</td>\n",
       "      <td>3.2</td>\n",
       "      <td>Vera Institute of Justice\\n3.2</td>\n",
       "      <td>New York, NY</td>\n",
       "      <td>New York, NY</td>\n",
       "      <td>201 to 500 employees</td>\n",
       "      <td>1961</td>\n",
       "      <td>Nonprofit Organization</td>\n",
       "      <td>Social Assistance</td>\n",
       "      <td>Non-Profit</td>\n",
       "      <td>$100 to $500 million (USD)</td>\n",
       "      <td>-1</td>\n",
       "      <td>True</td>\n",
       "    </tr>\n",
       "    <tr>\n",
       "      <th>1</th>\n",
       "      <td>Quality Data Analyst</td>\n",
       "      <td>$37K-$66K (Glassdoor est.)</td>\n",
       "      <td>Overview\\n\\nProvides analytical and technical ...</td>\n",
       "      <td>3.8</td>\n",
       "      <td>Visiting Nurse Service of New York\\n3.8</td>\n",
       "      <td>New York, NY</td>\n",
       "      <td>New York, NY</td>\n",
       "      <td>10000+ employees</td>\n",
       "      <td>1893</td>\n",
       "      <td>Nonprofit Organization</td>\n",
       "      <td>Health Care Services &amp; Hospitals</td>\n",
       "      <td>Health Care</td>\n",
       "      <td>$2 to $5 billion (USD)</td>\n",
       "      <td>-1</td>\n",
       "      <td>-1</td>\n",
       "    </tr>\n",
       "    <tr>\n",
       "      <th>2</th>\n",
       "      <td>Senior Data Analyst, Insights &amp; Analytics Team...</td>\n",
       "      <td>$37K-$66K (Glassdoor est.)</td>\n",
       "      <td>We’re looking for a Senior Data Analyst who ha...</td>\n",
       "      <td>3.4</td>\n",
       "      <td>Squarespace\\n3.4</td>\n",
       "      <td>New York, NY</td>\n",
       "      <td>New York, NY</td>\n",
       "      <td>1001 to 5000 employees</td>\n",
       "      <td>2003</td>\n",
       "      <td>Company - Private</td>\n",
       "      <td>Internet</td>\n",
       "      <td>Information Technology</td>\n",
       "      <td>Unknown / Non-Applicable</td>\n",
       "      <td>GoDaddy</td>\n",
       "      <td>-1</td>\n",
       "    </tr>\n",
       "    <tr>\n",
       "      <th>3</th>\n",
       "      <td>Data Analyst</td>\n",
       "      <td>$37K-$66K (Glassdoor est.)</td>\n",
       "      <td>Requisition NumberRR-0001939\\nRemote:Yes\\nWe c...</td>\n",
       "      <td>4.1</td>\n",
       "      <td>Celerity\\n4.1</td>\n",
       "      <td>New York, NY</td>\n",
       "      <td>McLean, VA</td>\n",
       "      <td>201 to 500 employees</td>\n",
       "      <td>2002</td>\n",
       "      <td>Subsidiary or Business Segment</td>\n",
       "      <td>IT Services</td>\n",
       "      <td>Information Technology</td>\n",
       "      <td>$50 to $100 million (USD)</td>\n",
       "      <td>-1</td>\n",
       "      <td>-1</td>\n",
       "    </tr>\n",
       "    <tr>\n",
       "      <th>4</th>\n",
       "      <td>Reporting Data Analyst</td>\n",
       "      <td>$37K-$66K (Glassdoor est.)</td>\n",
       "      <td>ABOUT FANDUEL GROUP\\n\\nFanDuel Group is a worl...</td>\n",
       "      <td>3.9</td>\n",
       "      <td>FanDuel\\n3.9</td>\n",
       "      <td>New York, NY</td>\n",
       "      <td>New York, NY</td>\n",
       "      <td>501 to 1000 employees</td>\n",
       "      <td>2009</td>\n",
       "      <td>Company - Private</td>\n",
       "      <td>Sports &amp; Recreation</td>\n",
       "      <td>Arts, Entertainment &amp; Recreation</td>\n",
       "      <td>$100 to $500 million (USD)</td>\n",
       "      <td>DraftKings</td>\n",
       "      <td>True</td>\n",
       "    </tr>\n",
       "  </tbody>\n",
       "</table>\n",
       "</div>"
      ],
      "text/plain": [
       "                                           Job Title  \\\n",
       "0  Data Analyst, Center on Immigration and Justic...   \n",
       "1                               Quality Data Analyst   \n",
       "2  Senior Data Analyst, Insights & Analytics Team...   \n",
       "3                                       Data Analyst   \n",
       "4                             Reporting Data Analyst   \n",
       "\n",
       "              Salary Estimate  \\\n",
       "0  $37K-$66K (Glassdoor est.)   \n",
       "1  $37K-$66K (Glassdoor est.)   \n",
       "2  $37K-$66K (Glassdoor est.)   \n",
       "3  $37K-$66K (Glassdoor est.)   \n",
       "4  $37K-$66K (Glassdoor est.)   \n",
       "\n",
       "                                     Job Description  Rating  \\\n",
       "0  Are you eager to roll up your sleeves and harn...     3.2   \n",
       "1  Overview\\n\\nProvides analytical and technical ...     3.8   \n",
       "2  We’re looking for a Senior Data Analyst who ha...     3.4   \n",
       "3  Requisition NumberRR-0001939\\nRemote:Yes\\nWe c...     4.1   \n",
       "4  ABOUT FANDUEL GROUP\\n\\nFanDuel Group is a worl...     3.9   \n",
       "\n",
       "                              Company Name      Location  Headquarters  \\\n",
       "0           Vera Institute of Justice\\n3.2  New York, NY  New York, NY   \n",
       "1  Visiting Nurse Service of New York\\n3.8  New York, NY  New York, NY   \n",
       "2                         Squarespace\\n3.4  New York, NY  New York, NY   \n",
       "3                            Celerity\\n4.1  New York, NY    McLean, VA   \n",
       "4                             FanDuel\\n3.9  New York, NY  New York, NY   \n",
       "\n",
       "                     Size  Founded               Type of ownership  \\\n",
       "0    201 to 500 employees     1961          Nonprofit Organization   \n",
       "1        10000+ employees     1893          Nonprofit Organization   \n",
       "2  1001 to 5000 employees     2003               Company - Private   \n",
       "3    201 to 500 employees     2002  Subsidiary or Business Segment   \n",
       "4   501 to 1000 employees     2009               Company - Private   \n",
       "\n",
       "                           Industry                            Sector  \\\n",
       "0                 Social Assistance                        Non-Profit   \n",
       "1  Health Care Services & Hospitals                       Health Care   \n",
       "2                          Internet            Information Technology   \n",
       "3                       IT Services            Information Technology   \n",
       "4               Sports & Recreation  Arts, Entertainment & Recreation   \n",
       "\n",
       "                      Revenue Competitors Easy Apply  \n",
       "0  $100 to $500 million (USD)          -1       True  \n",
       "1      $2 to $5 billion (USD)          -1         -1  \n",
       "2    Unknown / Non-Applicable     GoDaddy         -1  \n",
       "3   $50 to $100 million (USD)          -1         -1  \n",
       "4  $100 to $500 million (USD)  DraftKings       True  "
      ]
     },
     "execution_count": 312,
     "metadata": {},
     "output_type": "execute_result"
    }
   ],
   "source": [
    "df = pd.read_csv('dateset/DataAnalyst.csv',index_col=0)\n",
    "df.head()"
   ]
  },
  {
   "cell_type": "code",
   "execution_count": 313,
   "metadata": {},
   "outputs": [
    {
     "data": {
      "text/plain": [
       "(2253, 15)"
      ]
     },
     "execution_count": 313,
     "metadata": {},
     "output_type": "execute_result"
    }
   ],
   "source": [
    "# first looking a shape \n",
    "df.shape"
   ]
  },
  {
   "cell_type": "code",
   "execution_count": 314,
   "metadata": {},
   "outputs": [
    {
     "data": {
      "text/plain": [
       "Index(['Job Title', 'Salary Estimate', 'Job Description', 'Rating',\n",
       "       'Company Name', 'Location', 'Headquarters', 'Size', 'Founded',\n",
       "       'Type of ownership', 'Industry', 'Sector', 'Revenue', 'Competitors',\n",
       "       'Easy Apply'],\n",
       "      dtype='object')"
      ]
     },
     "execution_count": 314,
     "metadata": {},
     "output_type": "execute_result"
    }
   ],
   "source": [
    "df.columns"
   ]
  },
  {
   "cell_type": "code",
   "execution_count": 315,
   "metadata": {},
   "outputs": [
    {
     "data": {
      "text/plain": [
       "Index(['job_title', 'salary_estimate', 'job_description', 'rating',\n",
       "       'company_name', 'location', 'headquarters', 'size', 'founded',\n",
       "       'type_of_ownership', 'industry', 'sector', 'revenue', 'competitors',\n",
       "       'easy_apply'],\n",
       "      dtype='object')"
      ]
     },
     "execution_count": 315,
     "metadata": {},
     "output_type": "execute_result"
    }
   ],
   "source": [
    "# convert to lowercsae and replace space to _\n",
    "df.columns = [x.lower().replace(' ', '_') for x in df.columns]\n",
    "df.columns"
   ]
  },
  {
   "cell_type": "code",
   "execution_count": 316,
   "metadata": {},
   "outputs": [
    {
     "data": {
      "text/plain": [
       "job_title            0\n",
       "salary_estimate      0\n",
       "job_description      0\n",
       "rating               0\n",
       "company_name         1\n",
       "location             0\n",
       "headquarters         0\n",
       "size                 0\n",
       "founded              0\n",
       "type_of_ownership    0\n",
       "industry             0\n",
       "sector               0\n",
       "revenue              0\n",
       "competitors          0\n",
       "easy_apply           0\n",
       "dtype: int64"
      ]
     },
     "execution_count": 316,
     "metadata": {},
     "output_type": "execute_result"
    }
   ],
   "source": [
    "# looking a null value \n",
    "df.isnull().sum()"
   ]
  },
  {
   "cell_type": "code",
   "execution_count": 317,
   "metadata": {},
   "outputs": [
    {
     "data": {
      "text/plain": [
       "job_title            0\n",
       "salary_estimate      0\n",
       "job_description      0\n",
       "rating               0\n",
       "company_name         1\n",
       "location             0\n",
       "headquarters         0\n",
       "size                 0\n",
       "founded              0\n",
       "type_of_ownership    0\n",
       "industry             0\n",
       "sector               0\n",
       "revenue              0\n",
       "competitors          0\n",
       "easy_apply           0\n",
       "dtype: int64"
      ]
     },
     "execution_count": 317,
     "metadata": {},
     "output_type": "execute_result"
    }
   ],
   "source": [
    "df.isna().sum()"
   ]
  },
  {
   "cell_type": "code",
   "execution_count": 318,
   "metadata": {},
   "outputs": [],
   "source": [
    "# columns 1 remove \n",
    "df = df.dropna()"
   ]
  },
  {
   "cell_type": "code",
   "execution_count": 319,
   "metadata": {},
   "outputs": [
    {
     "data": {
      "text/plain": [
       "job_title            0\n",
       "salary_estimate      0\n",
       "job_description      0\n",
       "rating               0\n",
       "company_name         0\n",
       "location             0\n",
       "headquarters         0\n",
       "size                 0\n",
       "founded              0\n",
       "type_of_ownership    0\n",
       "industry             0\n",
       "sector               0\n",
       "revenue              0\n",
       "competitors          0\n",
       "easy_apply           0\n",
       "dtype: int64"
      ]
     },
     "execution_count": 319,
     "metadata": {},
     "output_type": "execute_result"
    }
   ],
   "source": [
    "df.isna().sum()"
   ]
  },
  {
   "cell_type": "code",
   "execution_count": 320,
   "metadata": {},
   "outputs": [
    {
     "data": {
      "text/plain": [
       "0    Data Analyst, Center on Immigration and Justic...\n",
       "1                                 Quality Data Analyst\n",
       "2    Senior Data Analyst, Insights & Analytics Team...\n",
       "3                                         Data Analyst\n",
       "4                               Reporting Data Analyst\n",
       "5                                         Data Analyst\n",
       "6                         Business/Data Analyst (FP&A)\n",
       "7                                 Data Science Analyst\n",
       "8                                         Data Analyst\n",
       "9                        Data Analyst, Merchant Health\n",
       "Name: job_title, dtype: object"
      ]
     },
     "execution_count": 320,
     "metadata": {},
     "output_type": "execute_result"
    }
   ],
   "source": [
    "# Good \n",
    "# lookign columns columns  \n",
    "df['job_title'].head(10)"
   ]
  },
  {
   "cell_type": "code",
   "execution_count": 321,
   "metadata": {},
   "outputs": [
    {
     "data": {
      "text/plain": [
       "0    $37K-$66K (Glassdoor est.)\n",
       "1    $37K-$66K (Glassdoor est.)\n",
       "2    $37K-$66K (Glassdoor est.)\n",
       "3    $37K-$66K (Glassdoor est.)\n",
       "4    $37K-$66K (Glassdoor est.)\n",
       "Name: salary_estimate, dtype: object"
      ]
     },
     "execution_count": 321,
     "metadata": {},
     "output_type": "execute_result"
    }
   ],
   "source": [
    "# looking a next columns\n",
    "df['salary_estimate'].head()"
   ]
  },
  {
   "cell_type": "code",
   "execution_count": 322,
   "metadata": {},
   "outputs": [
    {
     "data": {
      "text/plain": [
       "90"
      ]
     },
     "execution_count": 322,
     "metadata": {},
     "output_type": "execute_result"
    }
   ],
   "source": [
    "# return number of unique value to salary columns \n",
    "len(df['salary_estimate'].unique())"
   ]
  },
  {
   "cell_type": "code",
   "execution_count": 323,
   "metadata": {},
   "outputs": [
    {
     "data": {
      "text/plain": [
       "array(['$37K-$66K (Glassdoor est.)', '$46K-$87K (Glassdoor est.)',\n",
       "       '$51K-$88K (Glassdoor est.)', '$51K-$87K (Glassdoor est.)',\n",
       "       '$59K-$85K (Glassdoor est.)', '$43K-$76K (Glassdoor est.)',\n",
       "       '$60K-$110K (Glassdoor est.)', '$41K-$78K (Glassdoor est.)',\n",
       "       '$45K-$88K (Glassdoor est.)', '$73K-$127K (Glassdoor est.)',\n",
       "       '$84K-$90K (Glassdoor est.)', '$27K-$52K (Glassdoor est.)',\n",
       "       '$42K-$74K (Glassdoor est.)', '$77K-$132K (Glassdoor est.)',\n",
       "       '$98K-$114K (Glassdoor est.)', '$48K-$96K (Glassdoor est.)',\n",
       "       '$26K-$47K (Glassdoor est.)', '$31K-$59K (Glassdoor est.)',\n",
       "       '$47K-$81K (Glassdoor est.)', '$43K-$69K (Glassdoor est.)',\n",
       "       '$49K-$112K (Glassdoor est.)', '$30K-$54K (Glassdoor est.)',\n",
       "       '$55K-$103K (Glassdoor est.)', '$37K-$70K (Glassdoor est.)',\n",
       "       '$57K-$103K (Glassdoor est.)', '$35K-$45K (Glassdoor est.)',\n",
       "       '$42K-$66K (Glassdoor est.)', '$65K-$81K (Glassdoor est.)',\n",
       "       '$113K-$132K (Glassdoor est.)', '$42K-$63K (Glassdoor est.)',\n",
       "       '$60K-$66K (Glassdoor est.)', '$73K-$82K (Glassdoor est.)',\n",
       "       '$67K-$92K (Glassdoor est.)', '$42K-$76K (Glassdoor est.)',\n",
       "       '$97K-$129K (Glassdoor est.)', '$68K-$87K (Glassdoor est.)',\n",
       "       '$29K-$38K (Glassdoor est.)', '$47K-$76K (Glassdoor est.)',\n",
       "       '$74K-$123K (Glassdoor est.)', '$53K-$94K (Glassdoor est.)',\n",
       "       '$46K-$102K (Glassdoor est.)', '$43K-$94K (Glassdoor est.)',\n",
       "       '$45K-$78K (Glassdoor est.)', '$38K-$68K (Glassdoor est.)',\n",
       "       '$37K-$44K (Glassdoor est.)', '$64K-$113K (Glassdoor est.)',\n",
       "       '$50K-$93K (Glassdoor est.)', '$37K-$68K (Glassdoor est.)',\n",
       "       '$73K-$89K (Glassdoor est.)', '$76K-$122K (Glassdoor est.)',\n",
       "       '$60K-$124K (Glassdoor est.)', '$34K-$61K (Glassdoor est.)',\n",
       "       '$24K-$48K (Glassdoor est.)', '$30K-$53K (Glassdoor est.)',\n",
       "       '$41K-$86K (Glassdoor est.)', '$44K-$82K (Glassdoor est.)',\n",
       "       '$48K-$88K (Glassdoor est.)', '$44K-$78K (Glassdoor est.)',\n",
       "       '$110K-$190K (Glassdoor est.)', '$89K-$151K (Glassdoor est.)',\n",
       "       '$69K-$127K (Glassdoor est.)', '$51K-$93K (Glassdoor est.)',\n",
       "       '$58K-$93K (Glassdoor est.)', '$63K-$116K (Glassdoor est.)',\n",
       "       '$53K-$104K (Glassdoor est.)', '$35K-$42K (Glassdoor est.)',\n",
       "       '$43K-$77K (Glassdoor est.)', '$40K-$72K (Glassdoor est.)',\n",
       "       '$50K-$86K (Glassdoor est.)', '$35K-$67K (Glassdoor est.)',\n",
       "       '$57K-$70K (Glassdoor est.)', '$28K-$52K (Glassdoor est.)',\n",
       "       '$46K-$86K (Glassdoor est.)', '$54K-$75K (Glassdoor est.)',\n",
       "       '$53K-$99K (Glassdoor est.)', '$40K-$74K (Glassdoor est.)',\n",
       "       '$57K-$104K (Glassdoor est.)', '$99K-$178K (Glassdoor est.)',\n",
       "       '$93K-$159K (Glassdoor est.)', '$82K-$116K (Glassdoor est.)',\n",
       "       '$65K-$120K (Glassdoor est.)', '$47K-$74K (Glassdoor est.)',\n",
       "       '$55K-$101K (Glassdoor est.)', '-1', '$32K-$56K (Glassdoor est.)',\n",
       "       '$36K-$67K (Glassdoor est.)', '$57K-$67K (Glassdoor est.)',\n",
       "       '$49K-$91K (Glassdoor est.)', '$57K-$100K (Glassdoor est.)',\n",
       "       '$78K-$104K (Glassdoor est.)'], dtype=object)"
      ]
     },
     "execution_count": 323,
     "metadata": {},
     "output_type": "execute_result"
    }
   ],
   "source": [
    "# Do you all records in salary contains (Glassdoor est.)\n",
    "df['salary_estimate'].unique()"
   ]
  },
  {
   "cell_type": "code",
   "execution_count": 324,
   "metadata": {},
   "outputs": [
    {
     "data": {
      "text/plain": [
       "0    $37K-$66K\n",
       "1    $37K-$66K\n",
       "2    $37K-$66K\n",
       "3    $37K-$66K\n",
       "4    $37K-$66K\n",
       "Name: salary_estimate, dtype: object"
      ]
     },
     "execution_count": 324,
     "metadata": {},
     "output_type": "execute_result"
    }
   ],
   "source": [
    "# apply function in all salary column  to remove (Glassdoor est.)\n",
    "df['salary_estimate'] = df['salary_estimate'].apply(lambda x : x.replace(' (Glassdoor est.)','').strip())\n",
    "\n",
    "df['salary_estimate'].head()"
   ]
  },
  {
   "cell_type": "code",
   "execution_count": 325,
   "metadata": {},
   "outputs": [
    {
     "data": {
      "text/plain": [
       "0    37K-66K\n",
       "1    37K-66K\n",
       "2    37K-66K\n",
       "3    37K-66K\n",
       "4    37K-66K\n",
       "Name: salary_estimate, dtype: object"
      ]
     },
     "execution_count": 325,
     "metadata": {},
     "output_type": "execute_result"
    }
   ],
   "source": [
    "# remove sign dooller \n",
    "df['salary_estimate'] = df['salary_estimate'].apply(lambda x : x.replace('$','').strip())\n",
    "df['salary_estimate'].head()"
   ]
  },
  {
   "cell_type": "code",
   "execution_count": 326,
   "metadata": {},
   "outputs": [
    {
     "data": {
      "text/plain": [
       "array(['37K-66K', '46K-87K', '51K-88K', '51K-87K', '59K-85K', '43K-76K',\n",
       "       '60K-110K', '41K-78K', '45K-88K', '73K-127K', '84K-90K', '27K-52K',\n",
       "       '42K-74K', '77K-132K', '98K-114K', '48K-96K', '26K-47K', '31K-59K',\n",
       "       '47K-81K', '43K-69K', '49K-112K', '30K-54K', '55K-103K', '37K-70K',\n",
       "       '57K-103K', '35K-45K', '42K-66K', '65K-81K', '113K-132K',\n",
       "       '42K-63K', '60K-66K', '73K-82K', '67K-92K', '42K-76K', '97K-129K',\n",
       "       '68K-87K', '29K-38K', '47K-76K', '74K-123K', '53K-94K', '46K-102K',\n",
       "       '43K-94K', '45K-78K', '38K-68K', '37K-44K', '64K-113K', '50K-93K',\n",
       "       '37K-68K', '73K-89K', '76K-122K', '60K-124K', '34K-61K', '24K-48K',\n",
       "       '30K-53K', '41K-86K', '44K-82K', '48K-88K', '44K-78K', '110K-190K',\n",
       "       '89K-151K', '69K-127K', '51K-93K', '58K-93K', '63K-116K',\n",
       "       '53K-104K', '35K-42K', '43K-77K', '40K-72K', '50K-86K', '35K-67K',\n",
       "       '57K-70K', '28K-52K', '46K-86K', '54K-75K', '53K-99K', '40K-74K',\n",
       "       '57K-104K', '99K-178K', '93K-159K', '82K-116K', '65K-120K',\n",
       "       '47K-74K', '55K-101K', '32K-56K', '36K-67K', '57K-67K', '49K-91K',\n",
       "       '57K-100K', '78K-104K'], dtype=object)"
      ]
     },
     "execution_count": 326,
     "metadata": {},
     "output_type": "execute_result"
    }
   ],
   "source": [
    "# remove columns salary = -1\n",
    "df = df.drop(df[df['salary_estimate'] == '-1'].index)\n",
    "df['salary_estimate'].unique()"
   ]
  },
  {
   "cell_type": "code",
   "execution_count": 327,
   "metadata": {},
   "outputs": [
    {
     "data": {
      "text/plain": [
       "'37K-66K'"
      ]
     },
     "execution_count": 327,
     "metadata": {},
     "output_type": "execute_result"
    }
   ],
   "source": [
    "df['salary_estimate'].iloc[0]"
   ]
  },
  {
   "cell_type": "code",
   "execution_count": 328,
   "metadata": {},
   "outputs": [
    {
     "data": {
      "text/plain": [
       "'37-66'"
      ]
     },
     "execution_count": 328,
     "metadata": {},
     "output_type": "execute_result"
    }
   ],
   "source": [
    "# remove k in salary \n",
    "df['salary_estimate'] = df['salary_estimate'].apply(lambda x: x.replace('K','').strip())\n",
    "df['salary_estimate'].iloc[0]"
   ]
  },
  {
   "cell_type": "code",
   "execution_count": 329,
   "metadata": {},
   "outputs": [
    {
     "data": {
      "text/plain": [
       "array(['37-66', '46-87', '51-88', '51-87', '59-85', '43-76', '60-110',\n",
       "       '41-78', '45-88', '73-127'], dtype=object)"
      ]
     },
     "execution_count": 329,
     "metadata": {},
     "output_type": "execute_result"
    }
   ],
   "source": [
    "df['salary_estimate'].unique()[:10]"
   ]
  },
  {
   "cell_type": "code",
   "execution_count": 330,
   "metadata": {},
   "outputs": [],
   "source": [
    "# create function to calcalute mean()\n",
    "def cal_mean_text(col):\n",
    "    my_list = col.split('-')\n",
    "#     conervt item in my_list to int\n",
    "    my_list = list(map(int,my_list))\n",
    "    \n",
    "#     now return sum / len \n",
    "    return int(sum(my_list)/len(my_list))"
   ]
  },
  {
   "cell_type": "code",
   "execution_count": 331,
   "metadata": {},
   "outputs": [
    {
     "data": {
      "text/plain": [
       "15"
      ]
     },
     "execution_count": 331,
     "metadata": {},
     "output_type": "execute_result"
    }
   ],
   "source": [
    "cal_mean_text('14-16')"
   ]
  },
  {
   "cell_type": "code",
   "execution_count": 332,
   "metadata": {},
   "outputs": [],
   "source": [
    "def cal_mean_text_f(col):\n",
    "#     my_list = list(map(int,col_split('-')))\n",
    "    return int(sum(list(map(int,col.split('-')))) / len(list(map(int,col.split('-')))))"
   ]
  },
  {
   "cell_type": "code",
   "execution_count": 333,
   "metadata": {},
   "outputs": [
    {
     "data": {
      "text/plain": [
       "15"
      ]
     },
     "execution_count": 333,
     "metadata": {},
     "output_type": "execute_result"
    }
   ],
   "source": [
    " cal_mean_text_f('14-16')"
   ]
  },
  {
   "cell_type": "code",
   "execution_count": 334,
   "metadata": {},
   "outputs": [
    {
     "data": {
      "text/plain": [
       "array([ 51,  66,  69,  72,  59,  85, 100,  87,  39,  58], dtype=int64)"
      ]
     },
     "execution_count": 334,
     "metadata": {},
     "output_type": "execute_result"
    }
   ],
   "source": [
    "# now apply this in data\n",
    "df['salary_estimate'] = df['salary_estimate'].apply(lambda x : cal_mean_text_f(x))\n",
    "df['salary_estimate'].unique()[:10]"
   ]
  },
  {
   "cell_type": "code",
   "execution_count": 335,
   "metadata": {},
   "outputs": [
    {
     "data": {
      "text/plain": [
       "Index(['job_title', 'salary_estimate', 'job_description', 'rating',\n",
       "       'company_name', 'location', 'headquarters', 'size', 'founded',\n",
       "       'type_of_ownership', 'industry', 'sector', 'revenue', 'competitors',\n",
       "       'easy_apply'],\n",
       "      dtype='object')"
      ]
     },
     "execution_count": 335,
     "metadata": {},
     "output_type": "execute_result"
    }
   ],
   "source": [
    "df.columns"
   ]
  },
  {
   "cell_type": "code",
   "execution_count": 336,
   "metadata": {},
   "outputs": [
    {
     "data": {
      "text/plain": [
       "0    Are you eager to roll up your sleeves and harn...\n",
       "1    Overview\\n\\nProvides analytical and technical ...\n",
       "2    We’re looking for a Senior Data Analyst who ha...\n",
       "3    Requisition NumberRR-0001939\\nRemote:Yes\\nWe c...\n",
       "4    ABOUT FANDUEL GROUP\\n\\nFanDuel Group is a worl...\n",
       "Name: job_description, dtype: object"
      ]
     },
     "execution_count": 336,
     "metadata": {},
     "output_type": "execute_result"
    }
   ],
   "source": [
    "df['job_description'].head()"
   ]
  },
  {
   "cell_type": "code",
   "execution_count": 337,
   "metadata": {},
   "outputs": [
    {
     "data": {
      "text/plain": [
       "150"
      ]
     },
     "execution_count": 337,
     "metadata": {},
     "output_type": "execute_result"
    }
   ],
   "source": [
    "# now salary_estimate\n",
    "df['salary_estimate'].max()\n"
   ]
  },
  {
   "cell_type": "code",
   "execution_count": 338,
   "metadata": {},
   "outputs": [
    {
     "data": {
      "text/plain": [
       "33"
      ]
     },
     "execution_count": 338,
     "metadata": {},
     "output_type": "execute_result"
    }
   ],
   "source": [
    "df['salary_estimate'].min()"
   ]
  },
  {
   "cell_type": "code",
   "execution_count": 339,
   "metadata": {},
   "outputs": [
    {
     "data": {
      "text/plain": [
       "117"
      ]
     },
     "execution_count": 339,
     "metadata": {},
     "output_type": "execute_result"
    }
   ],
   "source": [
    "# \n",
    "# 150 - 33\n",
    "df['salary_estimate'].max() - df['salary_estimate'].min()"
   ]
  },
  {
   "cell_type": "code",
   "execution_count": 340,
   "metadata": {},
   "outputs": [],
   "source": [
    "# now crate intervals to calcalute number of job in same interval range salary \n",
    "# in example 4 or 6, in exmple 6 intervals\n",
    "def cal_no_job(num_intervals):\n",
    "    bet_max_min = df['salary_estimate'].max() - df['salary_estimate'].min()\n",
    "#     definte start and length_interval and mood_last_interval\n",
    "    start = df['salary_estimate'].min()\n",
    "    end_inter = df['salary_estimate'].min()\n",
    "    len_inter =  int(bet_max_min / num_intervals)\n",
    "    mod_len = bet_max_min % num_intervals\n",
    "    my_list = []\n",
    "    for i in range(num_intervals):\n",
    "        start = end_inter\n",
    "        end_inter = end_inter + len_inter\n",
    "        if i % 2 == 0 :\n",
    "            end_inter = end_inter + 1\n",
    "            if i > 0:\n",
    "                start = start + 1\n",
    "                my_list.append((start,end_inter))\n",
    "            else:\n",
    "                my_list.append((start,end_inter+1))\n",
    "        else:\n",
    "            if i > 0:\n",
    "                start = start + 1\n",
    "                my_list.append((start,end_inter))  \n",
    "            else:\n",
    "                my_list.append((start,end_inter))\n",
    "                \n",
    "    return my_list"
   ]
  },
  {
   "cell_type": "code",
   "execution_count": 341,
   "metadata": {},
   "outputs": [],
   "source": [
    "my_list = cal_no_job(6)"
   ]
  },
  {
   "cell_type": "code",
   "execution_count": 342,
   "metadata": {},
   "outputs": [
    {
     "data": {
      "text/plain": [
       "[(33, 54), (54, 72), (73, 92), (93, 111), (112, 131), (132, 150)]"
      ]
     },
     "execution_count": 342,
     "metadata": {},
     "output_type": "execute_result"
    }
   ],
   "source": [
    "my_list"
   ]
  },
  {
   "cell_type": "code",
   "execution_count": 343,
   "metadata": {},
   "outputs": [],
   "source": [
    "# now calcaluate noumber job from start to end \n",
    "# crate function to definte list contain mean of avg_age\n",
    "def create_salary_range1(sal_list):\n",
    "\n",
    "#     empty list\n",
    "    job_no = []\n",
    "\n",
    "#     loop item in list give argument this function, item is tuple \n",
    "    for sal_start,sal_end in sal_list:\n",
    "        job_no.append(df[(df['salary_estimate'] >= sal_start) & (df['salary_estimate'] <= sal_end)]['job_title'].count())\n",
    "\n",
    "#         return list\n",
    "    return job_no"
   ]
  },
  {
   "cell_type": "code",
   "execution_count": 344,
   "metadata": {},
   "outputs": [],
   "source": [
    "job_no = create_salary_range1(my_list)"
   ]
  },
  {
   "cell_type": "code",
   "execution_count": 345,
   "metadata": {},
   "outputs": [
    {
     "name": "stdout",
     "output_type": "stream",
     "text": [
      "in intervals (33, 54) salary, number of job is 494\n",
      "in intervals (54, 72) salary, number of job is 842\n",
      "in intervals (73, 92) salary, number of job is 589\n",
      "in intervals (93, 111) salary, number of job is 187\n",
      "in intervals (112, 131) salary, number of job is 112\n",
      "in intervals (132, 150) salary, number of job is 57\n"
     ]
    }
   ],
   "source": [
    "for counts in range(6):\n",
    "    print('in intervals {} salary, number of job is {}'.format(my_list[counts],job_no[counts]))"
   ]
  },
  {
   "cell_type": "code",
   "execution_count": 346,
   "metadata": {},
   "outputs": [],
   "source": [
    "%matplotlib notebook\n",
    "import matplotlib.pyplot as plt"
   ]
  },
  {
   "cell_type": "code",
   "execution_count": 347,
   "metadata": {},
   "outputs": [
    {
     "data": {
      "application/javascript": [
       "/* Put everything inside the global mpl namespace */\n",
       "/* global mpl */\n",
       "window.mpl = {};\n",
       "\n",
       "mpl.get_websocket_type = function () {\n",
       "    if (typeof WebSocket !== 'undefined') {\n",
       "        return WebSocket;\n",
       "    } else if (typeof MozWebSocket !== 'undefined') {\n",
       "        return MozWebSocket;\n",
       "    } else {\n",
       "        alert(\n",
       "            'Your browser does not have WebSocket support. ' +\n",
       "                'Please try Chrome, Safari or Firefox ≥ 6. ' +\n",
       "                'Firefox 4 and 5 are also supported but you ' +\n",
       "                'have to enable WebSockets in about:config.'\n",
       "        );\n",
       "    }\n",
       "};\n",
       "\n",
       "mpl.figure = function (figure_id, websocket, ondownload, parent_element) {\n",
       "    this.id = figure_id;\n",
       "\n",
       "    this.ws = websocket;\n",
       "\n",
       "    this.supports_binary = this.ws.binaryType !== undefined;\n",
       "\n",
       "    if (!this.supports_binary) {\n",
       "        var warnings = document.getElementById('mpl-warnings');\n",
       "        if (warnings) {\n",
       "            warnings.style.display = 'block';\n",
       "            warnings.textContent =\n",
       "                'This browser does not support binary websocket messages. ' +\n",
       "                'Performance may be slow.';\n",
       "        }\n",
       "    }\n",
       "\n",
       "    this.imageObj = new Image();\n",
       "\n",
       "    this.context = undefined;\n",
       "    this.message = undefined;\n",
       "    this.canvas = undefined;\n",
       "    this.rubberband_canvas = undefined;\n",
       "    this.rubberband_context = undefined;\n",
       "    this.format_dropdown = undefined;\n",
       "\n",
       "    this.image_mode = 'full';\n",
       "\n",
       "    this.root = document.createElement('div');\n",
       "    this.root.setAttribute('style', 'display: inline-block');\n",
       "    this._root_extra_style(this.root);\n",
       "\n",
       "    parent_element.appendChild(this.root);\n",
       "\n",
       "    this._init_header(this);\n",
       "    this._init_canvas(this);\n",
       "    this._init_toolbar(this);\n",
       "\n",
       "    var fig = this;\n",
       "\n",
       "    this.waiting = false;\n",
       "\n",
       "    this.ws.onopen = function () {\n",
       "        fig.send_message('supports_binary', { value: fig.supports_binary });\n",
       "        fig.send_message('send_image_mode', {});\n",
       "        if (fig.ratio !== 1) {\n",
       "            fig.send_message('set_dpi_ratio', { dpi_ratio: fig.ratio });\n",
       "        }\n",
       "        fig.send_message('refresh', {});\n",
       "    };\n",
       "\n",
       "    this.imageObj.onload = function () {\n",
       "        if (fig.image_mode === 'full') {\n",
       "            // Full images could contain transparency (where diff images\n",
       "            // almost always do), so we need to clear the canvas so that\n",
       "            // there is no ghosting.\n",
       "            fig.context.clearRect(0, 0, fig.canvas.width, fig.canvas.height);\n",
       "        }\n",
       "        fig.context.drawImage(fig.imageObj, 0, 0);\n",
       "    };\n",
       "\n",
       "    this.imageObj.onunload = function () {\n",
       "        fig.ws.close();\n",
       "    };\n",
       "\n",
       "    this.ws.onmessage = this._make_on_message_function(this);\n",
       "\n",
       "    this.ondownload = ondownload;\n",
       "};\n",
       "\n",
       "mpl.figure.prototype._init_header = function () {\n",
       "    var titlebar = document.createElement('div');\n",
       "    titlebar.classList =\n",
       "        'ui-dialog-titlebar ui-widget-header ui-corner-all ui-helper-clearfix';\n",
       "    var titletext = document.createElement('div');\n",
       "    titletext.classList = 'ui-dialog-title';\n",
       "    titletext.setAttribute(\n",
       "        'style',\n",
       "        'width: 100%; text-align: center; padding: 3px;'\n",
       "    );\n",
       "    titlebar.appendChild(titletext);\n",
       "    this.root.appendChild(titlebar);\n",
       "    this.header = titletext;\n",
       "};\n",
       "\n",
       "mpl.figure.prototype._canvas_extra_style = function (_canvas_div) {};\n",
       "\n",
       "mpl.figure.prototype._root_extra_style = function (_canvas_div) {};\n",
       "\n",
       "mpl.figure.prototype._init_canvas = function () {\n",
       "    var fig = this;\n",
       "\n",
       "    var canvas_div = (this.canvas_div = document.createElement('div'));\n",
       "    canvas_div.setAttribute(\n",
       "        'style',\n",
       "        'border: 1px solid #ddd;' +\n",
       "            'box-sizing: content-box;' +\n",
       "            'clear: both;' +\n",
       "            'min-height: 1px;' +\n",
       "            'min-width: 1px;' +\n",
       "            'outline: 0;' +\n",
       "            'overflow: hidden;' +\n",
       "            'position: relative;' +\n",
       "            'resize: both;'\n",
       "    );\n",
       "\n",
       "    function on_keyboard_event_closure(name) {\n",
       "        return function (event) {\n",
       "            return fig.key_event(event, name);\n",
       "        };\n",
       "    }\n",
       "\n",
       "    canvas_div.addEventListener(\n",
       "        'keydown',\n",
       "        on_keyboard_event_closure('key_press')\n",
       "    );\n",
       "    canvas_div.addEventListener(\n",
       "        'keyup',\n",
       "        on_keyboard_event_closure('key_release')\n",
       "    );\n",
       "\n",
       "    this._canvas_extra_style(canvas_div);\n",
       "    this.root.appendChild(canvas_div);\n",
       "\n",
       "    var canvas = (this.canvas = document.createElement('canvas'));\n",
       "    canvas.classList.add('mpl-canvas');\n",
       "    canvas.setAttribute('style', 'box-sizing: content-box;');\n",
       "\n",
       "    this.context = canvas.getContext('2d');\n",
       "\n",
       "    var backingStore =\n",
       "        this.context.backingStorePixelRatio ||\n",
       "        this.context.webkitBackingStorePixelRatio ||\n",
       "        this.context.mozBackingStorePixelRatio ||\n",
       "        this.context.msBackingStorePixelRatio ||\n",
       "        this.context.oBackingStorePixelRatio ||\n",
       "        this.context.backingStorePixelRatio ||\n",
       "        1;\n",
       "\n",
       "    this.ratio = (window.devicePixelRatio || 1) / backingStore;\n",
       "    if (this.ratio !== 1) {\n",
       "        fig.send_message('set_dpi_ratio', { dpi_ratio: this.ratio });\n",
       "    }\n",
       "\n",
       "    var rubberband_canvas = (this.rubberband_canvas = document.createElement(\n",
       "        'canvas'\n",
       "    ));\n",
       "    rubberband_canvas.setAttribute(\n",
       "        'style',\n",
       "        'box-sizing: content-box; position: absolute; left: 0; top: 0; z-index: 1;'\n",
       "    );\n",
       "\n",
       "    var resizeObserver = new ResizeObserver(function (entries) {\n",
       "        var nentries = entries.length;\n",
       "        for (var i = 0; i < nentries; i++) {\n",
       "            var entry = entries[i];\n",
       "            var width, height;\n",
       "            if (entry.contentBoxSize) {\n",
       "                if (entry.contentBoxSize instanceof Array) {\n",
       "                    // Chrome 84 implements new version of spec.\n",
       "                    width = entry.contentBoxSize[0].inlineSize;\n",
       "                    height = entry.contentBoxSize[0].blockSize;\n",
       "                } else {\n",
       "                    // Firefox implements old version of spec.\n",
       "                    width = entry.contentBoxSize.inlineSize;\n",
       "                    height = entry.contentBoxSize.blockSize;\n",
       "                }\n",
       "            } else {\n",
       "                // Chrome <84 implements even older version of spec.\n",
       "                width = entry.contentRect.width;\n",
       "                height = entry.contentRect.height;\n",
       "            }\n",
       "\n",
       "            // Keep the size of the canvas and rubber band canvas in sync with\n",
       "            // the canvas container.\n",
       "            if (entry.devicePixelContentBoxSize) {\n",
       "                // Chrome 84 implements new version of spec.\n",
       "                canvas.setAttribute(\n",
       "                    'width',\n",
       "                    entry.devicePixelContentBoxSize[0].inlineSize\n",
       "                );\n",
       "                canvas.setAttribute(\n",
       "                    'height',\n",
       "                    entry.devicePixelContentBoxSize[0].blockSize\n",
       "                );\n",
       "            } else {\n",
       "                canvas.setAttribute('width', width * fig.ratio);\n",
       "                canvas.setAttribute('height', height * fig.ratio);\n",
       "            }\n",
       "            canvas.setAttribute(\n",
       "                'style',\n",
       "                'width: ' + width + 'px; height: ' + height + 'px;'\n",
       "            );\n",
       "\n",
       "            rubberband_canvas.setAttribute('width', width);\n",
       "            rubberband_canvas.setAttribute('height', height);\n",
       "\n",
       "            // And update the size in Python. We ignore the initial 0/0 size\n",
       "            // that occurs as the element is placed into the DOM, which should\n",
       "            // otherwise not happen due to the minimum size styling.\n",
       "            if (width != 0 && height != 0) {\n",
       "                fig.request_resize(width, height);\n",
       "            }\n",
       "        }\n",
       "    });\n",
       "    resizeObserver.observe(canvas_div);\n",
       "\n",
       "    function on_mouse_event_closure(name) {\n",
       "        return function (event) {\n",
       "            return fig.mouse_event(event, name);\n",
       "        };\n",
       "    }\n",
       "\n",
       "    rubberband_canvas.addEventListener(\n",
       "        'mousedown',\n",
       "        on_mouse_event_closure('button_press')\n",
       "    );\n",
       "    rubberband_canvas.addEventListener(\n",
       "        'mouseup',\n",
       "        on_mouse_event_closure('button_release')\n",
       "    );\n",
       "    // Throttle sequential mouse events to 1 every 20ms.\n",
       "    rubberband_canvas.addEventListener(\n",
       "        'mousemove',\n",
       "        on_mouse_event_closure('motion_notify')\n",
       "    );\n",
       "\n",
       "    rubberband_canvas.addEventListener(\n",
       "        'mouseenter',\n",
       "        on_mouse_event_closure('figure_enter')\n",
       "    );\n",
       "    rubberband_canvas.addEventListener(\n",
       "        'mouseleave',\n",
       "        on_mouse_event_closure('figure_leave')\n",
       "    );\n",
       "\n",
       "    canvas_div.addEventListener('wheel', function (event) {\n",
       "        if (event.deltaY < 0) {\n",
       "            event.step = 1;\n",
       "        } else {\n",
       "            event.step = -1;\n",
       "        }\n",
       "        on_mouse_event_closure('scroll')(event);\n",
       "    });\n",
       "\n",
       "    canvas_div.appendChild(canvas);\n",
       "    canvas_div.appendChild(rubberband_canvas);\n",
       "\n",
       "    this.rubberband_context = rubberband_canvas.getContext('2d');\n",
       "    this.rubberband_context.strokeStyle = '#000000';\n",
       "\n",
       "    this._resize_canvas = function (width, height, forward) {\n",
       "        if (forward) {\n",
       "            canvas_div.style.width = width + 'px';\n",
       "            canvas_div.style.height = height + 'px';\n",
       "        }\n",
       "    };\n",
       "\n",
       "    // Disable right mouse context menu.\n",
       "    this.rubberband_canvas.addEventListener('contextmenu', function (_e) {\n",
       "        event.preventDefault();\n",
       "        return false;\n",
       "    });\n",
       "\n",
       "    function set_focus() {\n",
       "        canvas.focus();\n",
       "        canvas_div.focus();\n",
       "    }\n",
       "\n",
       "    window.setTimeout(set_focus, 100);\n",
       "};\n",
       "\n",
       "mpl.figure.prototype._init_toolbar = function () {\n",
       "    var fig = this;\n",
       "\n",
       "    var toolbar = document.createElement('div');\n",
       "    toolbar.classList = 'mpl-toolbar';\n",
       "    this.root.appendChild(toolbar);\n",
       "\n",
       "    function on_click_closure(name) {\n",
       "        return function (_event) {\n",
       "            return fig.toolbar_button_onclick(name);\n",
       "        };\n",
       "    }\n",
       "\n",
       "    function on_mouseover_closure(tooltip) {\n",
       "        return function (event) {\n",
       "            if (!event.currentTarget.disabled) {\n",
       "                return fig.toolbar_button_onmouseover(tooltip);\n",
       "            }\n",
       "        };\n",
       "    }\n",
       "\n",
       "    fig.buttons = {};\n",
       "    var buttonGroup = document.createElement('div');\n",
       "    buttonGroup.classList = 'mpl-button-group';\n",
       "    for (var toolbar_ind in mpl.toolbar_items) {\n",
       "        var name = mpl.toolbar_items[toolbar_ind][0];\n",
       "        var tooltip = mpl.toolbar_items[toolbar_ind][1];\n",
       "        var image = mpl.toolbar_items[toolbar_ind][2];\n",
       "        var method_name = mpl.toolbar_items[toolbar_ind][3];\n",
       "\n",
       "        if (!name) {\n",
       "            /* Instead of a spacer, we start a new button group. */\n",
       "            if (buttonGroup.hasChildNodes()) {\n",
       "                toolbar.appendChild(buttonGroup);\n",
       "            }\n",
       "            buttonGroup = document.createElement('div');\n",
       "            buttonGroup.classList = 'mpl-button-group';\n",
       "            continue;\n",
       "        }\n",
       "\n",
       "        var button = (fig.buttons[name] = document.createElement('button'));\n",
       "        button.classList = 'mpl-widget';\n",
       "        button.setAttribute('role', 'button');\n",
       "        button.setAttribute('aria-disabled', 'false');\n",
       "        button.addEventListener('click', on_click_closure(method_name));\n",
       "        button.addEventListener('mouseover', on_mouseover_closure(tooltip));\n",
       "\n",
       "        var icon_img = document.createElement('img');\n",
       "        icon_img.src = '_images/' + image + '.png';\n",
       "        icon_img.srcset = '_images/' + image + '_large.png 2x';\n",
       "        icon_img.alt = tooltip;\n",
       "        button.appendChild(icon_img);\n",
       "\n",
       "        buttonGroup.appendChild(button);\n",
       "    }\n",
       "\n",
       "    if (buttonGroup.hasChildNodes()) {\n",
       "        toolbar.appendChild(buttonGroup);\n",
       "    }\n",
       "\n",
       "    var fmt_picker = document.createElement('select');\n",
       "    fmt_picker.classList = 'mpl-widget';\n",
       "    toolbar.appendChild(fmt_picker);\n",
       "    this.format_dropdown = fmt_picker;\n",
       "\n",
       "    for (var ind in mpl.extensions) {\n",
       "        var fmt = mpl.extensions[ind];\n",
       "        var option = document.createElement('option');\n",
       "        option.selected = fmt === mpl.default_extension;\n",
       "        option.innerHTML = fmt;\n",
       "        fmt_picker.appendChild(option);\n",
       "    }\n",
       "\n",
       "    var status_bar = document.createElement('span');\n",
       "    status_bar.classList = 'mpl-message';\n",
       "    toolbar.appendChild(status_bar);\n",
       "    this.message = status_bar;\n",
       "};\n",
       "\n",
       "mpl.figure.prototype.request_resize = function (x_pixels, y_pixels) {\n",
       "    // Request matplotlib to resize the figure. Matplotlib will then trigger a resize in the client,\n",
       "    // which will in turn request a refresh of the image.\n",
       "    this.send_message('resize', { width: x_pixels, height: y_pixels });\n",
       "};\n",
       "\n",
       "mpl.figure.prototype.send_message = function (type, properties) {\n",
       "    properties['type'] = type;\n",
       "    properties['figure_id'] = this.id;\n",
       "    this.ws.send(JSON.stringify(properties));\n",
       "};\n",
       "\n",
       "mpl.figure.prototype.send_draw_message = function () {\n",
       "    if (!this.waiting) {\n",
       "        this.waiting = true;\n",
       "        this.ws.send(JSON.stringify({ type: 'draw', figure_id: this.id }));\n",
       "    }\n",
       "};\n",
       "\n",
       "mpl.figure.prototype.handle_save = function (fig, _msg) {\n",
       "    var format_dropdown = fig.format_dropdown;\n",
       "    var format = format_dropdown.options[format_dropdown.selectedIndex].value;\n",
       "    fig.ondownload(fig, format);\n",
       "};\n",
       "\n",
       "mpl.figure.prototype.handle_resize = function (fig, msg) {\n",
       "    var size = msg['size'];\n",
       "    if (size[0] !== fig.canvas.width || size[1] !== fig.canvas.height) {\n",
       "        fig._resize_canvas(size[0], size[1], msg['forward']);\n",
       "        fig.send_message('refresh', {});\n",
       "    }\n",
       "};\n",
       "\n",
       "mpl.figure.prototype.handle_rubberband = function (fig, msg) {\n",
       "    var x0 = msg['x0'] / fig.ratio;\n",
       "    var y0 = (fig.canvas.height - msg['y0']) / fig.ratio;\n",
       "    var x1 = msg['x1'] / fig.ratio;\n",
       "    var y1 = (fig.canvas.height - msg['y1']) / fig.ratio;\n",
       "    x0 = Math.floor(x0) + 0.5;\n",
       "    y0 = Math.floor(y0) + 0.5;\n",
       "    x1 = Math.floor(x1) + 0.5;\n",
       "    y1 = Math.floor(y1) + 0.5;\n",
       "    var min_x = Math.min(x0, x1);\n",
       "    var min_y = Math.min(y0, y1);\n",
       "    var width = Math.abs(x1 - x0);\n",
       "    var height = Math.abs(y1 - y0);\n",
       "\n",
       "    fig.rubberband_context.clearRect(\n",
       "        0,\n",
       "        0,\n",
       "        fig.canvas.width / fig.ratio,\n",
       "        fig.canvas.height / fig.ratio\n",
       "    );\n",
       "\n",
       "    fig.rubberband_context.strokeRect(min_x, min_y, width, height);\n",
       "};\n",
       "\n",
       "mpl.figure.prototype.handle_figure_label = function (fig, msg) {\n",
       "    // Updates the figure title.\n",
       "    fig.header.textContent = msg['label'];\n",
       "};\n",
       "\n",
       "mpl.figure.prototype.handle_cursor = function (fig, msg) {\n",
       "    var cursor = msg['cursor'];\n",
       "    switch (cursor) {\n",
       "        case 0:\n",
       "            cursor = 'pointer';\n",
       "            break;\n",
       "        case 1:\n",
       "            cursor = 'default';\n",
       "            break;\n",
       "        case 2:\n",
       "            cursor = 'crosshair';\n",
       "            break;\n",
       "        case 3:\n",
       "            cursor = 'move';\n",
       "            break;\n",
       "    }\n",
       "    fig.rubberband_canvas.style.cursor = cursor;\n",
       "};\n",
       "\n",
       "mpl.figure.prototype.handle_message = function (fig, msg) {\n",
       "    fig.message.textContent = msg['message'];\n",
       "};\n",
       "\n",
       "mpl.figure.prototype.handle_draw = function (fig, _msg) {\n",
       "    // Request the server to send over a new figure.\n",
       "    fig.send_draw_message();\n",
       "};\n",
       "\n",
       "mpl.figure.prototype.handle_image_mode = function (fig, msg) {\n",
       "    fig.image_mode = msg['mode'];\n",
       "};\n",
       "\n",
       "mpl.figure.prototype.handle_history_buttons = function (fig, msg) {\n",
       "    for (var key in msg) {\n",
       "        if (!(key in fig.buttons)) {\n",
       "            continue;\n",
       "        }\n",
       "        fig.buttons[key].disabled = !msg[key];\n",
       "        fig.buttons[key].setAttribute('aria-disabled', !msg[key]);\n",
       "    }\n",
       "};\n",
       "\n",
       "mpl.figure.prototype.handle_navigate_mode = function (fig, msg) {\n",
       "    if (msg['mode'] === 'PAN') {\n",
       "        fig.buttons['Pan'].classList.add('active');\n",
       "        fig.buttons['Zoom'].classList.remove('active');\n",
       "    } else if (msg['mode'] === 'ZOOM') {\n",
       "        fig.buttons['Pan'].classList.remove('active');\n",
       "        fig.buttons['Zoom'].classList.add('active');\n",
       "    } else {\n",
       "        fig.buttons['Pan'].classList.remove('active');\n",
       "        fig.buttons['Zoom'].classList.remove('active');\n",
       "    }\n",
       "};\n",
       "\n",
       "mpl.figure.prototype.updated_canvas_event = function () {\n",
       "    // Called whenever the canvas gets updated.\n",
       "    this.send_message('ack', {});\n",
       "};\n",
       "\n",
       "// A function to construct a web socket function for onmessage handling.\n",
       "// Called in the figure constructor.\n",
       "mpl.figure.prototype._make_on_message_function = function (fig) {\n",
       "    return function socket_on_message(evt) {\n",
       "        if (evt.data instanceof Blob) {\n",
       "            /* FIXME: We get \"Resource interpreted as Image but\n",
       "             * transferred with MIME type text/plain:\" errors on\n",
       "             * Chrome.  But how to set the MIME type?  It doesn't seem\n",
       "             * to be part of the websocket stream */\n",
       "            evt.data.type = 'image/png';\n",
       "\n",
       "            /* Free the memory for the previous frames */\n",
       "            if (fig.imageObj.src) {\n",
       "                (window.URL || window.webkitURL).revokeObjectURL(\n",
       "                    fig.imageObj.src\n",
       "                );\n",
       "            }\n",
       "\n",
       "            fig.imageObj.src = (window.URL || window.webkitURL).createObjectURL(\n",
       "                evt.data\n",
       "            );\n",
       "            fig.updated_canvas_event();\n",
       "            fig.waiting = false;\n",
       "            return;\n",
       "        } else if (\n",
       "            typeof evt.data === 'string' &&\n",
       "            evt.data.slice(0, 21) === 'data:image/png;base64'\n",
       "        ) {\n",
       "            fig.imageObj.src = evt.data;\n",
       "            fig.updated_canvas_event();\n",
       "            fig.waiting = false;\n",
       "            return;\n",
       "        }\n",
       "\n",
       "        var msg = JSON.parse(evt.data);\n",
       "        var msg_type = msg['type'];\n",
       "\n",
       "        // Call the  \"handle_{type}\" callback, which takes\n",
       "        // the figure and JSON message as its only arguments.\n",
       "        try {\n",
       "            var callback = fig['handle_' + msg_type];\n",
       "        } catch (e) {\n",
       "            console.log(\n",
       "                \"No handler for the '\" + msg_type + \"' message type: \",\n",
       "                msg\n",
       "            );\n",
       "            return;\n",
       "        }\n",
       "\n",
       "        if (callback) {\n",
       "            try {\n",
       "                // console.log(\"Handling '\" + msg_type + \"' message: \", msg);\n",
       "                callback(fig, msg);\n",
       "            } catch (e) {\n",
       "                console.log(\n",
       "                    \"Exception inside the 'handler_\" + msg_type + \"' callback:\",\n",
       "                    e,\n",
       "                    e.stack,\n",
       "                    msg\n",
       "                );\n",
       "            }\n",
       "        }\n",
       "    };\n",
       "};\n",
       "\n",
       "// from http://stackoverflow.com/questions/1114465/getting-mouse-location-in-canvas\n",
       "mpl.findpos = function (e) {\n",
       "    //this section is from http://www.quirksmode.org/js/events_properties.html\n",
       "    var targ;\n",
       "    if (!e) {\n",
       "        e = window.event;\n",
       "    }\n",
       "    if (e.target) {\n",
       "        targ = e.target;\n",
       "    } else if (e.srcElement) {\n",
       "        targ = e.srcElement;\n",
       "    }\n",
       "    if (targ.nodeType === 3) {\n",
       "        // defeat Safari bug\n",
       "        targ = targ.parentNode;\n",
       "    }\n",
       "\n",
       "    // pageX,Y are the mouse positions relative to the document\n",
       "    var boundingRect = targ.getBoundingClientRect();\n",
       "    var x = e.pageX - (boundingRect.left + document.body.scrollLeft);\n",
       "    var y = e.pageY - (boundingRect.top + document.body.scrollTop);\n",
       "\n",
       "    return { x: x, y: y };\n",
       "};\n",
       "\n",
       "/*\n",
       " * return a copy of an object with only non-object keys\n",
       " * we need this to avoid circular references\n",
       " * http://stackoverflow.com/a/24161582/3208463\n",
       " */\n",
       "function simpleKeys(original) {\n",
       "    return Object.keys(original).reduce(function (obj, key) {\n",
       "        if (typeof original[key] !== 'object') {\n",
       "            obj[key] = original[key];\n",
       "        }\n",
       "        return obj;\n",
       "    }, {});\n",
       "}\n",
       "\n",
       "mpl.figure.prototype.mouse_event = function (event, name) {\n",
       "    var canvas_pos = mpl.findpos(event);\n",
       "\n",
       "    if (name === 'button_press') {\n",
       "        this.canvas.focus();\n",
       "        this.canvas_div.focus();\n",
       "    }\n",
       "\n",
       "    var x = canvas_pos.x * this.ratio;\n",
       "    var y = canvas_pos.y * this.ratio;\n",
       "\n",
       "    this.send_message(name, {\n",
       "        x: x,\n",
       "        y: y,\n",
       "        button: event.button,\n",
       "        step: event.step,\n",
       "        guiEvent: simpleKeys(event),\n",
       "    });\n",
       "\n",
       "    /* This prevents the web browser from automatically changing to\n",
       "     * the text insertion cursor when the button is pressed.  We want\n",
       "     * to control all of the cursor setting manually through the\n",
       "     * 'cursor' event from matplotlib */\n",
       "    event.preventDefault();\n",
       "    return false;\n",
       "};\n",
       "\n",
       "mpl.figure.prototype._key_event_extra = function (_event, _name) {\n",
       "    // Handle any extra behaviour associated with a key event\n",
       "};\n",
       "\n",
       "mpl.figure.prototype.key_event = function (event, name) {\n",
       "    // Prevent repeat events\n",
       "    if (name === 'key_press') {\n",
       "        if (event.which === this._key) {\n",
       "            return;\n",
       "        } else {\n",
       "            this._key = event.which;\n",
       "        }\n",
       "    }\n",
       "    if (name === 'key_release') {\n",
       "        this._key = null;\n",
       "    }\n",
       "\n",
       "    var value = '';\n",
       "    if (event.ctrlKey && event.which !== 17) {\n",
       "        value += 'ctrl+';\n",
       "    }\n",
       "    if (event.altKey && event.which !== 18) {\n",
       "        value += 'alt+';\n",
       "    }\n",
       "    if (event.shiftKey && event.which !== 16) {\n",
       "        value += 'shift+';\n",
       "    }\n",
       "\n",
       "    value += 'k';\n",
       "    value += event.which.toString();\n",
       "\n",
       "    this._key_event_extra(event, name);\n",
       "\n",
       "    this.send_message(name, { key: value, guiEvent: simpleKeys(event) });\n",
       "    return false;\n",
       "};\n",
       "\n",
       "mpl.figure.prototype.toolbar_button_onclick = function (name) {\n",
       "    if (name === 'download') {\n",
       "        this.handle_save(this, null);\n",
       "    } else {\n",
       "        this.send_message('toolbar_button', { name: name });\n",
       "    }\n",
       "};\n",
       "\n",
       "mpl.figure.prototype.toolbar_button_onmouseover = function (tooltip) {\n",
       "    this.message.textContent = tooltip;\n",
       "};\n",
       "mpl.toolbar_items = [[\"Home\", \"Reset original view\", \"fa fa-home icon-home\", \"home\"], [\"Back\", \"Back to previous view\", \"fa fa-arrow-left icon-arrow-left\", \"back\"], [\"Forward\", \"Forward to next view\", \"fa fa-arrow-right icon-arrow-right\", \"forward\"], [\"\", \"\", \"\", \"\"], [\"Pan\", \"Left button pans, Right button zooms\\nx/y fixes axis, CTRL fixes aspect\", \"fa fa-arrows icon-move\", \"pan\"], [\"Zoom\", \"Zoom to rectangle\\nx/y fixes axis, CTRL fixes aspect\", \"fa fa-square-o icon-check-empty\", \"zoom\"], [\"\", \"\", \"\", \"\"], [\"Download\", \"Download plot\", \"fa fa-floppy-o icon-save\", \"download\"]];\n",
       "\n",
       "mpl.extensions = [\"eps\", \"jpeg\", \"pdf\", \"png\", \"ps\", \"raw\", \"svg\", \"tif\"];\n",
       "\n",
       "mpl.default_extension = \"png\";/* global mpl */\n",
       "\n",
       "var comm_websocket_adapter = function (comm) {\n",
       "    // Create a \"websocket\"-like object which calls the given IPython comm\n",
       "    // object with the appropriate methods. Currently this is a non binary\n",
       "    // socket, so there is still some room for performance tuning.\n",
       "    var ws = {};\n",
       "\n",
       "    ws.close = function () {\n",
       "        comm.close();\n",
       "    };\n",
       "    ws.send = function (m) {\n",
       "        //console.log('sending', m);\n",
       "        comm.send(m);\n",
       "    };\n",
       "    // Register the callback with on_msg.\n",
       "    comm.on_msg(function (msg) {\n",
       "        //console.log('receiving', msg['content']['data'], msg);\n",
       "        // Pass the mpl event to the overridden (by mpl) onmessage function.\n",
       "        ws.onmessage(msg['content']['data']);\n",
       "    });\n",
       "    return ws;\n",
       "};\n",
       "\n",
       "mpl.mpl_figure_comm = function (comm, msg) {\n",
       "    // This is the function which gets called when the mpl process\n",
       "    // starts-up an IPython Comm through the \"matplotlib\" channel.\n",
       "\n",
       "    var id = msg.content.data.id;\n",
       "    // Get hold of the div created by the display call when the Comm\n",
       "    // socket was opened in Python.\n",
       "    var element = document.getElementById(id);\n",
       "    var ws_proxy = comm_websocket_adapter(comm);\n",
       "\n",
       "    function ondownload(figure, _format) {\n",
       "        window.open(figure.canvas.toDataURL());\n",
       "    }\n",
       "\n",
       "    var fig = new mpl.figure(id, ws_proxy, ondownload, element);\n",
       "\n",
       "    // Call onopen now - mpl needs it, as it is assuming we've passed it a real\n",
       "    // web socket which is closed, not our websocket->open comm proxy.\n",
       "    ws_proxy.onopen();\n",
       "\n",
       "    fig.parent_element = element;\n",
       "    fig.cell_info = mpl.find_output_cell(\"<div id='\" + id + \"'></div>\");\n",
       "    if (!fig.cell_info) {\n",
       "        console.error('Failed to find cell for figure', id, fig);\n",
       "        return;\n",
       "    }\n",
       "    fig.cell_info[0].output_area.element.one(\n",
       "        'cleared',\n",
       "        { fig: fig },\n",
       "        fig._remove_fig_handler\n",
       "    );\n",
       "};\n",
       "\n",
       "mpl.figure.prototype.handle_close = function (fig, msg) {\n",
       "    var width = fig.canvas.width / fig.ratio;\n",
       "    fig.cell_info[0].output_area.element.off(\n",
       "        'cleared',\n",
       "        fig._remove_fig_handler\n",
       "    );\n",
       "\n",
       "    // Update the output cell to use the data from the current canvas.\n",
       "    fig.push_to_output();\n",
       "    var dataURL = fig.canvas.toDataURL();\n",
       "    // Re-enable the keyboard manager in IPython - without this line, in FF,\n",
       "    // the notebook keyboard shortcuts fail.\n",
       "    IPython.keyboard_manager.enable();\n",
       "    fig.parent_element.innerHTML =\n",
       "        '<img src=\"' + dataURL + '\" width=\"' + width + '\">';\n",
       "    fig.close_ws(fig, msg);\n",
       "};\n",
       "\n",
       "mpl.figure.prototype.close_ws = function (fig, msg) {\n",
       "    fig.send_message('closing', msg);\n",
       "    // fig.ws.close()\n",
       "};\n",
       "\n",
       "mpl.figure.prototype.push_to_output = function (_remove_interactive) {\n",
       "    // Turn the data on the canvas into data in the output cell.\n",
       "    var width = this.canvas.width / this.ratio;\n",
       "    var dataURL = this.canvas.toDataURL();\n",
       "    this.cell_info[1]['text/html'] =\n",
       "        '<img src=\"' + dataURL + '\" width=\"' + width + '\">';\n",
       "};\n",
       "\n",
       "mpl.figure.prototype.updated_canvas_event = function () {\n",
       "    // Tell IPython that the notebook contents must change.\n",
       "    IPython.notebook.set_dirty(true);\n",
       "    this.send_message('ack', {});\n",
       "    var fig = this;\n",
       "    // Wait a second, then push the new image to the DOM so\n",
       "    // that it is saved nicely (might be nice to debounce this).\n",
       "    setTimeout(function () {\n",
       "        fig.push_to_output();\n",
       "    }, 1000);\n",
       "};\n",
       "\n",
       "mpl.figure.prototype._init_toolbar = function () {\n",
       "    var fig = this;\n",
       "\n",
       "    var toolbar = document.createElement('div');\n",
       "    toolbar.classList = 'btn-toolbar';\n",
       "    this.root.appendChild(toolbar);\n",
       "\n",
       "    function on_click_closure(name) {\n",
       "        return function (_event) {\n",
       "            return fig.toolbar_button_onclick(name);\n",
       "        };\n",
       "    }\n",
       "\n",
       "    function on_mouseover_closure(tooltip) {\n",
       "        return function (event) {\n",
       "            if (!event.currentTarget.disabled) {\n",
       "                return fig.toolbar_button_onmouseover(tooltip);\n",
       "            }\n",
       "        };\n",
       "    }\n",
       "\n",
       "    fig.buttons = {};\n",
       "    var buttonGroup = document.createElement('div');\n",
       "    buttonGroup.classList = 'btn-group';\n",
       "    var button;\n",
       "    for (var toolbar_ind in mpl.toolbar_items) {\n",
       "        var name = mpl.toolbar_items[toolbar_ind][0];\n",
       "        var tooltip = mpl.toolbar_items[toolbar_ind][1];\n",
       "        var image = mpl.toolbar_items[toolbar_ind][2];\n",
       "        var method_name = mpl.toolbar_items[toolbar_ind][3];\n",
       "\n",
       "        if (!name) {\n",
       "            /* Instead of a spacer, we start a new button group. */\n",
       "            if (buttonGroup.hasChildNodes()) {\n",
       "                toolbar.appendChild(buttonGroup);\n",
       "            }\n",
       "            buttonGroup = document.createElement('div');\n",
       "            buttonGroup.classList = 'btn-group';\n",
       "            continue;\n",
       "        }\n",
       "\n",
       "        button = fig.buttons[name] = document.createElement('button');\n",
       "        button.classList = 'btn btn-default';\n",
       "        button.href = '#';\n",
       "        button.title = name;\n",
       "        button.innerHTML = '<i class=\"fa ' + image + ' fa-lg\"></i>';\n",
       "        button.addEventListener('click', on_click_closure(method_name));\n",
       "        button.addEventListener('mouseover', on_mouseover_closure(tooltip));\n",
       "        buttonGroup.appendChild(button);\n",
       "    }\n",
       "\n",
       "    if (buttonGroup.hasChildNodes()) {\n",
       "        toolbar.appendChild(buttonGroup);\n",
       "    }\n",
       "\n",
       "    // Add the status bar.\n",
       "    var status_bar = document.createElement('span');\n",
       "    status_bar.classList = 'mpl-message pull-right';\n",
       "    toolbar.appendChild(status_bar);\n",
       "    this.message = status_bar;\n",
       "\n",
       "    // Add the close button to the window.\n",
       "    var buttongrp = document.createElement('div');\n",
       "    buttongrp.classList = 'btn-group inline pull-right';\n",
       "    button = document.createElement('button');\n",
       "    button.classList = 'btn btn-mini btn-primary';\n",
       "    button.href = '#';\n",
       "    button.title = 'Stop Interaction';\n",
       "    button.innerHTML = '<i class=\"fa fa-power-off icon-remove icon-large\"></i>';\n",
       "    button.addEventListener('click', function (_evt) {\n",
       "        fig.handle_close(fig, {});\n",
       "    });\n",
       "    button.addEventListener(\n",
       "        'mouseover',\n",
       "        on_mouseover_closure('Stop Interaction')\n",
       "    );\n",
       "    buttongrp.appendChild(button);\n",
       "    var titlebar = this.root.querySelector('.ui-dialog-titlebar');\n",
       "    titlebar.insertBefore(buttongrp, titlebar.firstChild);\n",
       "};\n",
       "\n",
       "mpl.figure.prototype._remove_fig_handler = function (event) {\n",
       "    var fig = event.data.fig;\n",
       "    fig.close_ws(fig, {});\n",
       "};\n",
       "\n",
       "mpl.figure.prototype._root_extra_style = function (el) {\n",
       "    el.style.boxSizing = 'content-box'; // override notebook setting of border-box.\n",
       "};\n",
       "\n",
       "mpl.figure.prototype._canvas_extra_style = function (el) {\n",
       "    // this is important to make the div 'focusable\n",
       "    el.setAttribute('tabindex', 0);\n",
       "    // reach out to IPython and tell the keyboard manager to turn it's self\n",
       "    // off when our div gets focus\n",
       "\n",
       "    // location in version 3\n",
       "    if (IPython.notebook.keyboard_manager) {\n",
       "        IPython.notebook.keyboard_manager.register_events(el);\n",
       "    } else {\n",
       "        // location in version 2\n",
       "        IPython.keyboard_manager.register_events(el);\n",
       "    }\n",
       "};\n",
       "\n",
       "mpl.figure.prototype._key_event_extra = function (event, _name) {\n",
       "    var manager = IPython.notebook.keyboard_manager;\n",
       "    if (!manager) {\n",
       "        manager = IPython.keyboard_manager;\n",
       "    }\n",
       "\n",
       "    // Check for shift+enter\n",
       "    if (event.shiftKey && event.which === 13) {\n",
       "        this.canvas_div.blur();\n",
       "        // select the cell after this one\n",
       "        var index = IPython.notebook.find_cell_index(this.cell_info[0]);\n",
       "        IPython.notebook.select(index + 1);\n",
       "    }\n",
       "};\n",
       "\n",
       "mpl.figure.prototype.handle_save = function (fig, _msg) {\n",
       "    fig.ondownload(fig, null);\n",
       "};\n",
       "\n",
       "mpl.find_output_cell = function (html_output) {\n",
       "    // Return the cell and output element which can be found *uniquely* in the notebook.\n",
       "    // Note - this is a bit hacky, but it is done because the \"notebook_saving.Notebook\"\n",
       "    // IPython event is triggered only after the cells have been serialised, which for\n",
       "    // our purposes (turning an active figure into a static one), is too late.\n",
       "    var cells = IPython.notebook.get_cells();\n",
       "    var ncells = cells.length;\n",
       "    for (var i = 0; i < ncells; i++) {\n",
       "        var cell = cells[i];\n",
       "        if (cell.cell_type === 'code') {\n",
       "            for (var j = 0; j < cell.output_area.outputs.length; j++) {\n",
       "                var data = cell.output_area.outputs[j];\n",
       "                if (data.data) {\n",
       "                    // IPython >= 3 moved mimebundle to data attribute of output\n",
       "                    data = data.data;\n",
       "                }\n",
       "                if (data['text/html'] === html_output) {\n",
       "                    return [cell, data, j];\n",
       "                }\n",
       "            }\n",
       "        }\n",
       "    }\n",
       "};\n",
       "\n",
       "// Register the function which deals with the matplotlib target/channel.\n",
       "// The kernel may be null if the page has been refreshed.\n",
       "if (IPython.notebook.kernel !== null) {\n",
       "    IPython.notebook.kernel.comm_manager.register_target(\n",
       "        'matplotlib',\n",
       "        mpl.mpl_figure_comm\n",
       "    );\n",
       "}\n"
      ],
      "text/plain": [
       "<IPython.core.display.Javascript object>"
      ]
     },
     "metadata": {},
     "output_type": "display_data"
    },
    {
     "data": {
      "text/html": [
       "<img src=\"data:image/png;base64,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\" width=\"640\">"
      ],
      "text/plain": [
       "<IPython.core.display.HTML object>"
      ]
     },
     "metadata": {},
     "output_type": "display_data"
    },
    {
     "data": {
      "text/plain": [
       "[<matplotlib.lines.Line2D at 0x19553b37640>]"
      ]
     },
     "execution_count": 347,
     "metadata": {},
     "output_type": "execute_result"
    }
   ],
   "source": [
    "fig = plt.figure()\n",
    "ax = fig.add_subplot(1,1,1)\n",
    "ax.plot(job_no,'o-',color='#abccff',label=\"Number Job\")"
   ]
  },
  {
   "cell_type": "code",
   "execution_count": 348,
   "metadata": {},
   "outputs": [
    {
     "data": {
      "text/plain": [
       "[Text(0, 0, '(33, 54)'),\n",
       " Text(1, 0, '(54, 72)'),\n",
       " Text(2, 0, '(73, 92)'),\n",
       " Text(3, 0, '(93, 111)'),\n",
       " Text(4, 0, '(112, 131)'),\n",
       " Text(5, 0, '(132, 150)')]"
      ]
     },
     "execution_count": 348,
     "metadata": {},
     "output_type": "execute_result"
    }
   ],
   "source": [
    "ax.set_xticks([0,1,2,3,4,5])\n",
    "ax.set_xticklabels(my_list)"
   ]
  },
  {
   "cell_type": "code",
   "execution_count": 349,
   "metadata": {},
   "outputs": [],
   "source": [
    "ax.set_title(\"Number of Job in Salary Intervals () K$\")\n",
    "ax.spines['top'].set_visible(False)\n",
    "ax.spines['right'].set_visible(False)\n",
    "ax.legend(loc='best',frameon=False)\n",
    "plt.savefig('Number of Job In Salaey intervals.png', dpi=400,bbox_inches='tight')"
   ]
  },
  {
   "cell_type": "code",
   "execution_count": null,
   "metadata": {},
   "outputs": [],
   "source": []
  }
 ],
 "metadata": {
  "kernelspec": {
   "display_name": "Python 3",
   "language": "python",
   "name": "python3"
  },
  "language_info": {
   "codemirror_mode": {
    "name": "ipython",
    "version": 3
   },
   "file_extension": ".py",
   "mimetype": "text/x-python",
   "name": "python",
   "nbconvert_exporter": "python",
   "pygments_lexer": "ipython3",
   "version": "3.8.5"
  }
 },
 "nbformat": 4,
 "nbformat_minor": 4
}
